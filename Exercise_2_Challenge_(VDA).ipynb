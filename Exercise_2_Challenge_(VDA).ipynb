{
  "nbformat": 4,
  "nbformat_minor": 0,
  "metadata": {
    "colab": {
      "provenance": [],
      "authorship_tag": "ABX9TyO+k6CyU/sfAd6+XZD0ioku",
      "include_colab_link": true
    },
    "kernelspec": {
      "name": "python3",
      "display_name": "Python 3"
    },
    "language_info": {
      "name": "python"
    }
  },
  "cells": [
    {
      "cell_type": "markdown",
      "metadata": {
        "id": "view-in-github",
        "colab_type": "text"
      },
      "source": [
        "<a href=\"https://colab.research.google.com/github/Mark-Jeonel-Kenn-Gob/VDA-CPE031-CPE21S4/blob/main/Exercise_2_Challenge_(VDA).ipynb\" target=\"_parent\"><img src=\"https://colab.research.google.com/assets/colab-badge.svg\" alt=\"Open In Colab\"/></a>"
      ]
    },
    {
      "cell_type": "markdown",
      "source": [
        "#Challenging Question:\n",
        "How are you going delete indices no. 0,1,3 leaving only all items in index 2?"
      ],
      "metadata": {
        "id": "tTcUXATlKXCY"
      }
    },
    {
      "cell_type": "code",
      "source": [
        "import pandas as pd\n",
        "\n",
        "s1 = pd.Series([0,4,8])\n",
        "s2 = pd.Series([1,5,9])\n",
        "s3 = pd.Series([2,6,10])\n",
        "s4 = pd.Series([5,10,15])\n",
        "\n",
        "dframe = pd.DataFrame([s1,s2,s3,s4])\n",
        "print(dframe.drop([0,1,3]))"
      ],
      "metadata": {
        "colab": {
          "base_uri": "https://localhost:8080/"
        },
        "id": "Ny7eqO6BKuph",
        "outputId": "55fb4f75-17f7-4aa1-bf68-f4c51cdfc214"
      },
      "execution_count": null,
      "outputs": [
        {
          "output_type": "stream",
          "name": "stdout",
          "text": [
            "   0  1   2\n",
            "2  2  6  10\n"
          ]
        }
      ]
    }
  ]
}