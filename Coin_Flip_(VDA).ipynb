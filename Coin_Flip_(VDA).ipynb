{
  "nbformat": 4,
  "nbformat_minor": 0,
  "metadata": {
    "colab": {
      "provenance": [],
      "authorship_tag": "ABX9TyNj/0RpsDoFmZTFFRXEc344",
      "include_colab_link": true
    },
    "kernelspec": {
      "name": "python3",
      "display_name": "Python 3"
    },
    "language_info": {
      "name": "python"
    }
  },
  "cells": [
    {
      "cell_type": "markdown",
      "metadata": {
        "id": "view-in-github",
        "colab_type": "text"
      },
      "source": [
        "<a href=\"https://colab.research.google.com/github/jeonnel/VDA-CPE031-CPE21S4/blob/main/Coin_Flip_(VDA).ipynb\" target=\"_parent\"><img src=\"https://colab.research.google.com/assets/colab-badge.svg\" alt=\"Open In Colab\"/></a>"
      ]
    },
    {
      "cell_type": "markdown",
      "source": [
        "#Challenge 2!\n",
        "Python Programming\n",
        "\n",
        "Challenge 2: Coin Flip"
      ],
      "metadata": {
        "id": "XqvNtspEwW9R"
      }
    },
    {
      "cell_type": "markdown",
      "source": [
        "Instructions:\n",
        "\n",
        "Create a function coin_flip() that simulates coin flips repeated n times, with 0 representing tails and 1 representing heads. Make the function a generator with the parameter n as the number of coin flips.\n",
        "\n",
        "Use the numpy library as np and the function of np.random.randint() in order to simulate a coin flip. After defining this function, return the result as a List using List Comprehension discussed previously.\n",
        "\n",
        "*Note: numpy.random.randint((start), stop)*"
      ],
      "metadata": {
        "id": "6tOBu9CjvHIa"
      }
    },
    {
      "cell_type": "code",
      "source": [
        "import numpy as np\n",
        "\n",
        "def coin_flip(n):\n",
        "  for _ in range(n):\n",
        "    yield np.random.randint(2)\n",
        "\n",
        "result = [outcome for outcome in coin_flip(10)]\n",
        "print(result)"
      ],
      "metadata": {
        "colab": {
          "base_uri": "https://localhost:8080/"
        },
        "id": "0iW_pzPPwBvY",
        "outputId": "848c772e-85db-4232-a7cf-111f6c7940ca"
      },
      "execution_count": 1,
      "outputs": [
        {
          "output_type": "stream",
          "name": "stdout",
          "text": [
            "[1, 1, 1, 0, 1, 1, 1, 0, 0, 1]\n"
          ]
        }
      ]
    }
  ]
}