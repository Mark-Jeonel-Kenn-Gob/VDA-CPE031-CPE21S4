{
  "nbformat": 4,
  "nbformat_minor": 0,
  "metadata": {
    "colab": {
      "provenance": [],
      "collapsed_sections": [
        "X1veuSdH1yT8"
      ],
      "toc_visible": true,
      "authorship_tag": "ABX9TyPD+GyHtFFkLVFvhwhCt16h",
      "include_colab_link": true
    },
    "kernelspec": {
      "name": "python3",
      "display_name": "Python 3"
    },
    "language_info": {
      "name": "python"
    }
  },
  "cells": [
    {
      "cell_type": "markdown",
      "metadata": {
        "id": "view-in-github",
        "colab_type": "text"
      },
      "source": [
        "<a href=\"https://colab.research.google.com/github/jeonnel/VDA-CPE031-CPE21S4/blob/main/Exercise_No_1.ipynb\" target=\"_parent\"><img src=\"https://colab.research.google.com/assets/colab-badge.svg\" alt=\"Open In Colab\"/></a>"
      ]
    },
    {
      "cell_type": "markdown",
      "source": [],
      "metadata": {
        "id": "7DgzoBFp1jX-"
      }
    },
    {
      "cell_type": "markdown",
      "source": [
        "**Exercise 1**\n",
        "\n",
        "#  1. Variables and Data Types\n"
      ],
      "metadata": {
        "id": "X1veuSdH1yT8"
      }
    },
    {
      "cell_type": "code",
      "source": [
        "#Numbers\n",
        "varNum = 123\n",
        "pi = 3.14159\n",
        "\n",
        "#Strings\n",
        "varString = \"Hello World!\"\n",
        "varText = \"This is a string\"\n",
        "\n",
        "#Lists\n",
        "varList = [\"abc\", 123]\n",
        "\n",
        "#Tuples\n",
        "varTuple = (\"abc\", 123, \"HELLO\")\n",
        "\n",
        "#Dictionaries\n",
        "var= 3\n",
        "varDict = {'first':1, '2': '2nd', 3:var}\n",
        "\n",
        "varDict = {}\n",
        "varDict['first'] = 1\n",
        "varDict['2'] = '2nd'\n",
        "varDict[3] = var"
      ],
      "metadata": {
        "id": "1UdpZnSb18Uu"
      },
      "execution_count": 19,
      "outputs": []
    },
    {
      "cell_type": "markdown",
      "source": [
        "#  2. Arithmetic"
      ],
      "metadata": {
        "id": "z1Up8WsS7LVU"
      }
    },
    {
      "cell_type": "code",
      "source": [
        "#ARITHMETIC\n",
        "\n",
        "#Addition\n",
        "a = 5+3\n",
        "print (a)\n",
        "\n",
        "#Subtraction\n",
        "a = 5-3\n",
        "print (a)\n",
        "\n",
        "#Multiplication\n",
        "a = 5*3\n",
        "print (a)\n",
        "\n",
        "#Exponent\n",
        "a = 5**3\n",
        "print (a)\n",
        "\n",
        "#Division\n",
        "a = 5/3\n",
        "print (a)\n",
        "\n",
        "a = 5%3\n",
        "print (a)\n",
        "\n",
        "a = 5//3\n",
        "print (a)\n",
        "\n",
        "#Increment/Decrement\n",
        "a = 5\n",
        "a += 1\n",
        "print (a)\n",
        "\n",
        "#Decrement\n",
        "a = 5\n",
        "a -= 1\n",
        "print (a)\n",
        "\n",
        "#String Concatenation\n",
        "a = 'Hello ' + 'World!'\n",
        "print (a)\n",
        "\n",
        "#Complex Expressions\n",
        "a = 3+5-6*2/4\n",
        "print (a)"
      ],
      "metadata": {
        "colab": {
          "base_uri": "https://localhost:8080/"
        },
        "id": "rGAL9lK-4h9N",
        "outputId": "00a14c31-9eef-423a-ce4c-f9e8ab0ba918"
      },
      "execution_count": 10,
      "outputs": [
        {
          "output_type": "stream",
          "name": "stdout",
          "text": [
            "8\n",
            "2\n",
            "15\n",
            "125\n",
            "1.6666666666666667\n",
            "2\n",
            "1\n",
            "6\n",
            "4\n",
            "Hello World!\n",
            "5.0\n"
          ]
        }
      ]
    },
    {
      "cell_type": "markdown",
      "source": [
        "#  3. Control Statements and Data Structures\n"
      ],
      "metadata": {
        "id": "6D2ZxEaJ7TJ0"
      }
    },
    {
      "cell_type": "code",
      "source": [
        "#CONDITIONAL STATEMENTS\n",
        "\n",
        "#Boolean Conditions\n",
        "x = True\n",
        "\n",
        "if x:\n",
        "  print (\"var x is True\")\n",
        "else:\n",
        "  print (\"var x is False\")\n",
        "print ('')\n",
        "\n",
        "#String Conditions\n",
        "x = \"Hello World!\"\n",
        "\n",
        "if x == 'Hello World!':\n",
        "  print (\"var x is Hello World!\")\n",
        "else:\n",
        "  print (\"var x is not Hello World!\")\n",
        "print ('')\n",
        "\n",
        "#Numerical Conditions\n",
        "x = 10\n",
        "\n",
        "if x == '10':\n",
        "  print (\"var x is a string\")\n",
        "elif x == 10:\n",
        "  print (\"var x is an integer\")\n",
        "else:\n",
        "  print (\"var x is none of the above\")"
      ],
      "metadata": {
        "colab": {
          "base_uri": "https://localhost:8080/"
        },
        "id": "LKxm68-57de8",
        "outputId": "359baaed-29ce-4305-b4cc-10d8e2d4dc3f"
      },
      "execution_count": 23,
      "outputs": [
        {
          "output_type": "stream",
          "name": "stdout",
          "text": [
            "var x is True\n",
            "\n",
            "var x is Hello World!\n",
            "\n",
            "var x is an integer\n"
          ]
        }
      ]
    },
    {
      "cell_type": "markdown",
      "source": [
        "#  4. Loops"
      ],
      "metadata": {
        "id": "JlRIU8E09N3U"
      }
    },
    {
      "cell_type": "code",
      "source": [
        "#For Loops\n",
        "for var in range (0,5,2):\n",
        "  print (var)\n",
        "print ('')\n",
        "\n",
        "#While Loops\n",
        "var = 0\n",
        "while var < 5:\n",
        "  print (var)\n",
        "  var += 2\n",
        "\n",
        "#Nested Loops\n",
        "x = 0\n",
        "while x < 5:\n",
        "  for y in range (0,x):\n",
        "    print (y, end='')\n",
        "  x += 1\n",
        "  print ('')\n",
        "\n",
        "#Note: The loop declaration ends with a colon (:) while its contents inside are indented"
      ],
      "metadata": {
        "colab": {
          "base_uri": "https://localhost:8080/"
        },
        "id": "Q5jqmDk4_Zt7",
        "outputId": "43d40fef-7d7e-4dc6-e4c0-07af429530da"
      },
      "execution_count": 24,
      "outputs": [
        {
          "output_type": "stream",
          "name": "stdout",
          "text": [
            "0\n",
            "2\n",
            "4\n",
            "\n",
            "0\n",
            "2\n",
            "4\n",
            "\n",
            "0\n",
            "01\n",
            "012\n",
            "0123\n"
          ]
        }
      ]
    },
    {
      "cell_type": "markdown",
      "source": [
        "#  5. Lists\n"
      ],
      "metadata": {
        "id": "nYUKjSh7ABQz"
      }
    },
    {
      "cell_type": "code",
      "source": [
        "#Can contain a number of values comprised of different datatypes\n",
        "\n",
        "pi = 3.14159\n",
        "varList = [1, 2, 'A', 'B', 'Hello!', pi]\n",
        "print (varList[0])\n",
        "\n",
        "print (varList[4])\n",
        "\n",
        "varList.append('World!')\n",
        "print (varList[6])\n",
        "\n",
        "print (len(varList))\n",
        "\n",
        "print(varList[5])\n",
        "\n",
        "varList.remove(pi)\n",
        "print(varList[5])"
      ],
      "metadata": {
        "colab": {
          "base_uri": "https://localhost:8080/"
        },
        "id": "2TCmDg_mAGZb",
        "outputId": "1091ed17-168c-4993-a3dd-d3e2720b60b2"
      },
      "execution_count": 26,
      "outputs": [
        {
          "output_type": "stream",
          "name": "stdout",
          "text": [
            "1\n",
            "Hello!\n",
            "World!\n",
            "7\n",
            "3.14159\n",
            "World!\n"
          ]
        }
      ]
    },
    {
      "cell_type": "markdown",
      "source": [
        "#  6. Dictionaries"
      ],
      "metadata": {
        "id": "5W6r812WBk0b"
      }
    },
    {
      "cell_type": "code",
      "source": [
        "var = \"Hello World!\"\n",
        "varDict = {'first': 123, 2 : 'abc', '3' : var, 4 : ['lista', 'listb']}\n",
        "print (varDict['first'])\n",
        "\n",
        "print (varDict[2])\n",
        "\n",
        "print (varDict['3'])\n",
        "\n",
        "print (varDict[4])\n",
        "\n",
        "print (varDict[4][1])\n",
        "\n",
        "len(varDict)"
      ],
      "metadata": {
        "colab": {
          "base_uri": "https://localhost:8080/"
        },
        "id": "GdRpkzI2CF-S",
        "outputId": "c45e813a-8d05-4bab-c999-d44eb8496fa8"
      },
      "execution_count": 30,
      "outputs": [
        {
          "output_type": "stream",
          "name": "stdout",
          "text": [
            "123\n",
            "abc\n",
            "Hello World!\n",
            "['lista', 'listb']\n",
            "listb\n"
          ]
        },
        {
          "output_type": "execute_result",
          "data": {
            "text/plain": [
              "4"
            ]
          },
          "metadata": {},
          "execution_count": 30
        }
      ]
    },
    {
      "cell_type": "markdown",
      "source": [
        "#  7. List Generators and Comprehension"
      ],
      "metadata": {
        "id": "X1zA9A5mEJHi"
      }
    },
    {
      "cell_type": "code",
      "source": [
        "def gen_num_up_to(n):\n",
        "  num = 0\n",
        "  while num < n:\n",
        "    yield num\n",
        "    num += 1\n",
        "\n",
        "gen_num_up_to(5)\n",
        "\n",
        "varList = gen_num_up_to(5)\n",
        "print([var for var in varList])\n",
        "\n",
        "def gen_num_up_to(n):\n",
        "  num = 0\n",
        "  while num < n:\n",
        "    yield num\n",
        "    num += 2\n",
        "\n",
        "varList = gen_num_up_to(5)\n",
        "print([var for var in varList])\n",
        "\n",
        "varList = range(0, 5, 2)\n",
        "print([var for var in varList])"
      ],
      "metadata": {
        "colab": {
          "base_uri": "https://localhost:8080/"
        },
        "id": "6cHHXcTQETJT",
        "outputId": "2ed06323-2532-4c52-a7ad-e94a5edd7fb9"
      },
      "execution_count": 36,
      "outputs": [
        {
          "output_type": "stream",
          "name": "stdout",
          "text": [
            "[0, 1, 2, 3, 4]\n",
            "[0, 2, 4]\n",
            "[0, 2, 4]\n"
          ]
        }
      ]
    },
    {
      "cell_type": "markdown",
      "source": [
        "#  8. Slicing"
      ],
      "metadata": {
        "id": "08NE2jFpG70a"
      }
    },
    {
      "cell_type": "code",
      "source": [
        "varList = [1, 2, 3, 4, 5, 6, 7, 8, 9, 10]\n",
        "print(varList[:5])\n",
        "\n",
        "print(varList[5:])\n",
        "\n",
        "print(varList[:-2])\n",
        "\n",
        "print(varList[-2:])\n",
        "\n",
        "print(varList[2:-2])\n",
        "\n",
        "print(varList[2:8:2])\n",
        "\n",
        "\"\"\"\n",
        "Note:\n",
        "list(start:)\n",
        "list(:end)\n",
        "list(start:end)\n",
        "list(start:end:step)\n",
        "\"\"\""
      ],
      "metadata": {
        "colab": {
          "base_uri": "https://localhost:8080/"
        },
        "id": "TusbsCh4G_Gr",
        "outputId": "50f9fa19-f2b9-4e6e-9116-d371937c2f94"
      },
      "execution_count": 38,
      "outputs": [
        {
          "output_type": "stream",
          "name": "stdout",
          "text": [
            "[1, 2, 3, 4, 5]\n",
            "[6, 7, 8, 9, 10]\n",
            "[1, 2, 3, 4, 5, 6, 7, 8]\n",
            "[9, 10]\n",
            "[3, 4, 5, 6, 7, 8]\n",
            "[3, 5, 7]\n"
          ]
        }
      ]
    },
    {
      "cell_type": "markdown",
      "source": [
        "#  9. Functions"
      ],
      "metadata": {
        "id": "LYvXfmaLIgXy"
      }
    },
    {
      "cell_type": "code",
      "source": [
        "\"\"\"\n",
        "Python functions us the ff. notation:\n",
        "def function_name:\n",
        "  commands\n",
        "\"\"\"\n",
        "\n",
        "def reminder(n,m):\n",
        "  while True:\n",
        "    if n - m < 0:\n",
        "      return n\n",
        "    else:\n",
        "      n = n - m\n",
        "\n",
        "reminder(10, 4)"
      ],
      "metadata": {
        "colab": {
          "base_uri": "https://localhost:8080/"
        },
        "id": "IEZ5OGHqIjyB",
        "outputId": "4016f874-efaa-4854-f174-6afd8296a1ef"
      },
      "execution_count": 40,
      "outputs": [
        {
          "output_type": "execute_result",
          "data": {
            "text/plain": [
              "2"
            ]
          },
          "metadata": {},
          "execution_count": 40
        }
      ]
    }
  ]
}